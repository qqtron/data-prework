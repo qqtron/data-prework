{
 "cells": [
  {
   "cell_type": "markdown",
   "metadata": {},
   "source": [
    "<img src=\"https://bit.ly/2VnXWr2\" width=\"100\" align=\"left\">"
   ]
  },
  {
   "cell_type": "markdown",
   "metadata": {},
   "source": [
    "# The Snail and the Well\n",
    "\n",
    "A snail falls at the bottom of a 125 cm well. Each day the snail rises 30 cm. But at night, while sleeping, slides 20 cm because the walls are wet. How many days does it take for the snail to escape the well?\n",
    "\n",
    "**Hint**: The snail gets out of the well when it surpasses the 125cm of height.\n",
    "\n",
    "## Tools\n",
    "\n",
    "1. Loop: **while**\n",
    "2. Conditional statements: **if-else**\n",
    "3. Function: **print()**\n",
    "\n",
    "## Tasks\n",
    "\n",
    "#### 1. Assign the challenge data to variables with representative names: `well_height`, `daily_distance`, `nightly_distance` and `snail_position`."
   ]
  },
  {
   "cell_type": "code",
   "execution_count": 2,
   "metadata": {},
   "outputs": [],
   "source": [
    "well_height = 125\n",
    "daily_distance = 30\n",
    "nightly_distance = 20\n",
    "snail_position = 0"
   ]
  },
  {
   "cell_type": "markdown",
   "metadata": {},
   "source": [
    "#### 2. Create a variable `days` to keep count of the days that pass until the snail escapes the well. "
   ]
  },
  {
   "cell_type": "code",
   "execution_count": 3,
   "metadata": {},
   "outputs": [],
   "source": [
    "days = 0"
   ]
  },
  {
   "cell_type": "markdown",
   "metadata": {},
   "source": [
    "#### 3. Find the solution to the challenge using the variables defined above. "
   ]
  },
  {
   "cell_type": "code",
   "execution_count": 4,
   "metadata": {},
   "outputs": [
    {
     "name": "stdout",
     "output_type": "stream",
     "text": [
      "the snail did not get it yet. snails position is  0\n",
      "the snail did not get it yet. snails position is  10\n",
      "the snail did not get it yet. snails position is  20\n",
      "the snail did not get it yet. snails position is  30\n",
      "the snail did not get it yet. snails position is  40\n",
      "the snail did not get it yet. snails position is  50\n",
      "the snail did not get it yet. snails position is  60\n",
      "the snail did not get it yet. snails position is  70\n",
      "the snail did not get it yet. snails position is  80\n",
      "the snail did not get it yet. snails position is  90\n",
      "the snail did not get it yet. snails position is  100\n",
      "the snail did not get it yet. snails position is  110\n",
      "the snail did not get it yet. snails position is  120\n",
      "the snail get it in:  14 days\n"
     ]
    }
   ],
   "source": [
    "while well_height >= snail_position:\n",
    "    print(\"the snail did not get it yet.\", \"snails position is \", snail_position)\n",
    "    if days == 0:\n",
    "        days = days + 1\n",
    "    if days > 0:\n",
    "        snail_position = int((daily_distance * days) - (nightly_distance * days))\n",
    "    days = days + 1\n",
    "else:\n",
    "    print(\"the snail get it in: \",days, \"days\")\n",
    "    \n",
    "\n"
   ]
  },
  {
   "cell_type": "markdown",
   "metadata": {},
   "source": [
    "#### 4. Print the solution."
   ]
  },
  {
   "cell_type": "code",
   "execution_count": 5,
   "metadata": {},
   "outputs": [
    {
     "name": "stdout",
     "output_type": "stream",
     "text": [
      "14\n"
     ]
    }
   ],
   "source": [
    "print(days)"
   ]
  },
  {
   "cell_type": "markdown",
   "metadata": {},
   "source": [
    "## Bonus\n",
    "The distance traveled by the snail each day is now defined by a list.\n",
    "```\n",
    "advance_cm = [30, 21, 33, 77, 44, 45, 23, 45, 12, 34, 55]\n",
    "```\n",
    "On the first day, the snail rises 30cm but during the night it slides 20cm. On the second day, the snail rises 21cm but during the night it slides 20cm, and so on. \n",
    "\n",
    "#### 1. How many days does it take for the snail to escape the well?\n",
    "Follow the same guidelines as in the previous challenge.\n",
    "\n",
    "**Hint**: Remember that the snail gets out of the well when it surpasses the 125cm of height."
   ]
  },
  {
   "cell_type": "code",
   "execution_count": 12,
   "metadata": {},
   "outputs": [
    {
     "name": "stdout",
     "output_type": "stream",
     "text": [
      "day 0 : the snail did not get there yet. snail position is  0\n",
      "day 1 : the snail did not get there yet. snail position is  10\n",
      "day 2 : the snail did not get there yet. snail position is  11\n",
      "day 3 : the snail did not get there yet. snail position is  24\n",
      "day 4 : the snail did not get there yet. snail position is  81\n",
      "day 5 : the snail did not get there yet. snail position is  105\n",
      "the snail gets there in:  6 days\n"
     ]
    }
   ],
   "source": [
    "advance_cm = [30, 21, 33, 77, 44, 45, 23, 45, 12, 34, 55]\n",
    "days = 0\n",
    "snail_position = 0\n",
    "\n",
    "while well_height >= snail_position:\n",
    "    print(\"day\", days, \": the snail did not get there yet.\", \"snail position is \", snail_position)\n",
    "    daily_distance = advance_cm[days]\n",
    "    snail_position = snail_position + daily_distance - nightly_distance\n",
    "    days += 1\n",
    "else:\n",
    "    print(\"the snail gets there in: \",days, \"days\")\n",
    "        \n",
    "\n"
   ]
  },
  {
   "cell_type": "markdown",
   "metadata": {},
   "source": [
    "#### 2. What is its maximum displacement in one day? And its minimum? Calculate the displacement using only the travel distance of the days used to get out of the well. \n",
    "**Hint**: Remember that displacement means the total distance risen taking into account that the snail slides at night.  "
   ]
  },
  {
   "cell_type": "code",
   "execution_count": 14,
   "metadata": {},
   "outputs": [
    {
     "name": "stdout",
     "output_type": "stream",
     "text": [
      "day 0 : the snail did not get there yet. snail position is  0\n",
      "day 1 : the snail did not get there yet. snail position is  10\n",
      "day 2 : the snail did not get there yet. snail position is  11\n",
      "day 3 : the snail did not get there yet. snail position is  24\n",
      "day 4 : the snail did not get there yet. snail position is  81\n",
      "day 5 : the snail did not get there yet. snail position is  105\n",
      "the snail gets there in:  6 days\n",
      "Max. displacement:  57\n",
      "Min. displacement:  1\n"
     ]
    }
   ],
   "source": [
    "advance_cm = [30, 21, 33, 77, 44, 45, 23, 45, 12, 34, 55]\n",
    "days = 0\n",
    "snail_position = 0\n",
    "daily_displacement = []\n",
    "\n",
    "while well_height >= snail_position:\n",
    "    print(\"day\", days, \": the snail did not get there yet.\", \"snail position is \", snail_position)\n",
    "    daily_distance = advance_cm[days]\n",
    "    displacement = daily_distance - nightly_distance\n",
    "    snail_position = snail_position + displacement\n",
    "    daily_displacement.append(displacement)\n",
    "    days += 1\n",
    "else:\n",
    "    print(\"the snail gets there in: \",days, \"days\")\n",
    "    \n",
    "print(\"Max. displacement: \", max(daily_displacement))\n",
    "print(\"Min. displacement: \", min(daily_displacement))"
   ]
  },
  {
   "cell_type": "markdown",
   "metadata": {},
   "source": [
    "#### 3. What is its average progress? Take into account the snail slides at night."
   ]
  },
  {
   "cell_type": "code",
   "execution_count": 17,
   "metadata": {},
   "outputs": [
    {
     "name": "stdout",
     "output_type": "stream",
     "text": [
      "Avg. displacement:  21\n"
     ]
    }
   ],
   "source": [
    "print(\"Avg. displacement: \", int(sum(daily_displacement)/len(daily_displacement)))"
   ]
  },
  {
   "cell_type": "markdown",
   "metadata": {},
   "source": [
    "#### 4. What is the standard deviation of its displacement? Take into account the snail slides at night."
   ]
  },
  {
   "cell_type": "code",
   "execution_count": 19,
   "metadata": {
    "scrolled": true
   },
   "outputs": [
    {
     "name": "stdout",
     "output_type": "stream",
     "text": [
      "Variance is 1903.3333333333328\n",
      "standard deviation is 43.62720863559039\n"
     ]
    }
   ],
   "source": [
    "from math import sqrt\n",
    "mean_daily_displacement = sum(daily_displacement)/len(daily_displacement)\n",
    "deviation_list = []\n",
    "for value in daily_displacement:\n",
    "    deviation_from_mean = (value - mean_daily_displacement)**2\n",
    "    deviation_list.append(deviation_from_mean)\n",
    "\n",
    "variance = sum(deviation_list)\n",
    "print(\"Variance is\", variance)\n",
    "standard_deviation = sqrt(variance)\n",
    "print(\"standard deviation is\", standard_deviation)\n",
    "    \n",
    "    \n",
    "    "
   ]
  },
  {
   "cell_type": "code",
   "execution_count": null,
   "metadata": {},
   "outputs": [],
   "source": []
  }
 ],
 "metadata": {
  "kernelspec": {
   "display_name": "Python 3",
   "language": "python",
   "name": "python3"
  },
  "language_info": {
   "codemirror_mode": {
    "name": "ipython",
    "version": 3
   },
   "file_extension": ".py",
   "mimetype": "text/x-python",
   "name": "python",
   "nbconvert_exporter": "python",
   "pygments_lexer": "ipython3",
   "version": "3.8.6"
  }
 },
 "nbformat": 4,
 "nbformat_minor": 2
}
